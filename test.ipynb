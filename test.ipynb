{
 "cells": [
  {
   "cell_type": "code",
   "execution_count": 1,
   "metadata": {},
   "outputs": [
    {
     "name": "stderr",
     "output_type": "stream",
     "text": [
      "2023-06-28 23:01:27.598570: W external/xla/xla/service/gpu/nvptx_compiler.cc:596] The NVIDIA driver's CUDA version is 12.0 which is older than the ptxas CUDA version (12.1.105). Because the driver is older than the ptxas version, XLA is disabling parallel compilation, which may slow down compilation. You should update your NVIDIA driver or use the NVIDIA-provided CUDA forward compatibility packages.\n"
     ]
    }
   ],
   "source": [
    "%load_ext autoreload\n",
    "%autoreload 2\n",
    "\n",
    "import jax\n",
    "import jax.numpy as jnp\n",
    "import flax.linen as nn\n",
    "from flax import struct\n",
    "\n",
    "from jaxav.dynamics import DroneState, step\n",
    "from jaxav.pytree import tree_stack, to_numpy\n",
    "from jaxav.visualization import render\n",
    "from jaxav.control import RateController, PositionController\n",
    "from jaxav.envs.hover import Hover\n",
    "from jaxav.base import RolloutWrapper\n",
    "\n",
    "from tqdm import tqdm\n",
    "import time\n",
    "\n",
    "import yaml\n",
    "drone = \"jaxav/asset/hummingbird.yaml\"\n",
    "with open(drone, \"r\") as f:\n",
    "    params = yaml.safe_load(f)\n",
    "\n",
    "key = jax.random.PRNGKey(0)"
   ]
  },
  {
   "cell_type": "code",
   "execution_count": 3,
   "metadata": {},
   "outputs": [
    {
     "data": {
      "text/plain": [
       "FrozenDict({\n",
       "    params: {\n",
       "        kernel: Array([[ 0.36402658,  0.17710859, -0.16770986, ...,  0.40100864,\n",
       "                -0.47886357,  0.07992616],\n",
       "               [ 0.42209762,  0.11826899,  0.11172286, ...,  0.01486722,\n",
       "                 0.26404345, -0.26247606],\n",
       "               [-0.39979404,  0.48579267,  0.12676321, ...,  0.17139047,\n",
       "                -0.28431538, -0.10210536],\n",
       "               ...,\n",
       "               [-0.2940564 ,  0.40860546,  0.15569891, ...,  0.25664407,\n",
       "                -0.11676306,  0.3151261 ],\n",
       "               [-0.39524713, -0.4403522 , -0.15616548, ...,  0.09872915,\n",
       "                 0.04761202, -0.13373263],\n",
       "               [ 0.37237784, -0.08677061, -0.22721125, ...,  0.1556863 ,\n",
       "                 0.0919781 ,  0.27768564]], dtype=float32),\n",
       "        bias: Array([0., 0., 0., 0., 0., 0., 0., 0., 0., 0., 0., 0., 0., 0., 0., 0., 0.,\n",
       "               0., 0., 0., 0., 0., 0., 0., 0., 0., 0., 0., 0., 0., 0., 0., 0., 0.,\n",
       "               0., 0., 0., 0., 0., 0., 0., 0., 0., 0., 0., 0., 0., 0., 0., 0., 0.,\n",
       "               0., 0., 0., 0., 0., 0., 0., 0., 0., 0., 0., 0., 0., 0., 0., 0., 0.,\n",
       "               0., 0., 0., 0., 0., 0., 0., 0., 0., 0., 0., 0., 0., 0., 0., 0., 0.,\n",
       "               0., 0., 0., 0., 0., 0., 0., 0., 0., 0., 0., 0., 0., 0., 0., 0., 0.,\n",
       "               0., 0., 0., 0., 0., 0., 0., 0., 0., 0., 0., 0., 0., 0., 0., 0., 0.,\n",
       "               0., 0., 0., 0., 0., 0., 0., 0., 0.], dtype=float32),\n",
       "    },\n",
       "})"
      ]
     },
     "execution_count": 3,
     "metadata": {},
     "output_type": "execute_result"
    }
   ],
   "source": [
    "env = Hover(drone)\n",
    "\n",
    "class Foo(nn.Module):\n",
    "\n",
    "    @nn.compact\n",
    "    def __call__(self, x):\n",
    "        x = nn.Dense(128)(x)\n",
    "        x = jnp.sum(x)\n",
    "        return x\n",
    "\n"
   ]
  }
 ],
 "metadata": {
  "kernelspec": {
   "display_name": "jax",
   "language": "python",
   "name": "python3"
  },
  "language_info": {
   "codemirror_mode": {
    "name": "ipython",
    "version": 3
   },
   "file_extension": ".py",
   "mimetype": "text/x-python",
   "name": "python",
   "nbconvert_exporter": "python",
   "pygments_lexer": "ipython3",
   "version": "3.10.11"
  },
  "orig_nbformat": 4
 },
 "nbformat": 4,
 "nbformat_minor": 2
}
